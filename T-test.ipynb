{
 "cells": [
  {
   "cell_type": "code",
   "execution_count": 130,
   "metadata": {
    "collapsed": false
   },
   "outputs": [
    {
     "name": "stdout",
     "output_type": "stream",
     "text": [
      "Populating the interactive namespace from numpy and matplotlib\n"
     ]
    }
   ],
   "source": [
    "import pandas as pd\n",
    "import numpy as np\n",
    "import geopandas as gpd\n",
    "import matplotlib.pyplot as plt\n",
    "%pylab inline\n",
    "from scipy.stats import ttest_ind, ttest_ind_from_stats, ks_2samp\n",
    "from scipy.special import stdtr\n",
    "import seaborn as sns\n",
    "sns.set_style(\"whitegrid\")\n",
    "\n",
    "np.random.seed(2017)"
   ]
  },
  {
   "cell_type": "code",
   "execution_count": 2,
   "metadata": {
    "collapsed": true
   },
   "outputs": [],
   "source": [
    "delay = pd.read_csv('delay_95.csv')"
   ]
  },
  {
   "cell_type": "code",
   "execution_count": 6,
   "metadata": {
    "collapsed": false
   },
   "outputs": [],
   "source": [
    "taxi = pd.read_csv('finaldf.csv', index_col=0)"
   ]
  },
  {
   "cell_type": "code",
   "execution_count": 10,
   "metadata": {
    "collapsed": false
   },
   "outputs": [],
   "source": [
    "taxi['keycol'] = taxi.apply(lambda x: str(x.Station)+'_'+str(x.Date)+'_'+str(x.Hour), axis=1)"
   ]
  },
  {
   "cell_type": "code",
   "execution_count": 12,
   "metadata": {
    "collapsed": false
   },
   "outputs": [],
   "source": [
    "taxi = taxi.drop(['Station','Date','Hour'], axis=1)"
   ]
  },
  {
   "cell_type": "code",
   "execution_count": 13,
   "metadata": {
    "collapsed": false
   },
   "outputs": [
    {
     "data": {
      "text/html": [
       "<div>\n",
       "<table border=\"1\" class=\"dataframe\">\n",
       "  <thead>\n",
       "    <tr style=\"text-align: right;\">\n",
       "      <th></th>\n",
       "      <th>Taxi_Rides</th>\n",
       "      <th>keycol</th>\n",
       "    </tr>\n",
       "  </thead>\n",
       "  <tbody>\n",
       "    <tr>\n",
       "      <th>0</th>\n",
       "      <td>24</td>\n",
       "      <td>146_12_10</td>\n",
       "    </tr>\n",
       "    <tr>\n",
       "      <th>1</th>\n",
       "      <td>5</td>\n",
       "      <td>346_12_10</td>\n",
       "    </tr>\n",
       "    <tr>\n",
       "      <th>2</th>\n",
       "      <td>2</td>\n",
       "      <td>394_12_10</td>\n",
       "    </tr>\n",
       "    <tr>\n",
       "      <th>3</th>\n",
       "      <td>1</td>\n",
       "      <td>135_12_10</td>\n",
       "    </tr>\n",
       "    <tr>\n",
       "      <th>4</th>\n",
       "      <td>2</td>\n",
       "      <td>237_12_10</td>\n",
       "    </tr>\n",
       "  </tbody>\n",
       "</table>\n",
       "</div>"
      ],
      "text/plain": [
       "   Taxi_Rides     keycol\n",
       "0          24  146_12_10\n",
       "1           5  346_12_10\n",
       "2           2  394_12_10\n",
       "3           1  135_12_10\n",
       "4           2  237_12_10"
      ]
     },
     "execution_count": 13,
     "metadata": {},
     "output_type": "execute_result"
    }
   ],
   "source": [
    "taxi.head()"
   ]
  },
  {
   "cell_type": "code",
   "execution_count": 14,
   "metadata": {
    "collapsed": true
   },
   "outputs": [],
   "source": [
    "merged = pd.merge(delay, taxi, how='left', on='keycol')"
   ]
  },
  {
   "cell_type": "code",
   "execution_count": 17,
   "metadata": {
    "collapsed": false
   },
   "outputs": [
    {
     "data": {
      "text/html": [
       "<div>\n",
       "<table border=\"1\" class=\"dataframe\">\n",
       "  <thead>\n",
       "    <tr style=\"text-align: right;\">\n",
       "      <th></th>\n",
       "      <th>keycol</th>\n",
       "      <th>delay</th>\n",
       "      <th>Taxi_Rides</th>\n",
       "    </tr>\n",
       "  </thead>\n",
       "  <tbody>\n",
       "    <tr>\n",
       "      <th>0</th>\n",
       "      <td>0_1_7</td>\n",
       "      <td>0</td>\n",
       "      <td>NaN</td>\n",
       "    </tr>\n",
       "    <tr>\n",
       "      <th>1</th>\n",
       "      <td>1_1_7</td>\n",
       "      <td>1</td>\n",
       "      <td>22.0</td>\n",
       "    </tr>\n",
       "    <tr>\n",
       "      <th>2</th>\n",
       "      <td>10_1_7</td>\n",
       "      <td>1</td>\n",
       "      <td>1.0</td>\n",
       "    </tr>\n",
       "    <tr>\n",
       "      <th>3</th>\n",
       "      <td>101_1_7</td>\n",
       "      <td>0</td>\n",
       "      <td>NaN</td>\n",
       "    </tr>\n",
       "    <tr>\n",
       "      <th>4</th>\n",
       "      <td>103_1_7</td>\n",
       "      <td>1</td>\n",
       "      <td>6.0</td>\n",
       "    </tr>\n",
       "  </tbody>\n",
       "</table>\n",
       "</div>"
      ],
      "text/plain": [
       "    keycol  delay  Taxi_Rides\n",
       "0    0_1_7      0         NaN\n",
       "1    1_1_7      1        22.0\n",
       "2   10_1_7      1         1.0\n",
       "3  101_1_7      0         NaN\n",
       "4  103_1_7      1         6.0"
      ]
     },
     "execution_count": 17,
     "metadata": {},
     "output_type": "execute_result"
    }
   ],
   "source": [
    "merged.head()"
   ]
  },
  {
   "cell_type": "code",
   "execution_count": 19,
   "metadata": {
    "collapsed": false
   },
   "outputs": [],
   "source": [
    "merged = merged.dropna()"
   ]
  },
  {
   "cell_type": "code",
   "execution_count": 49,
   "metadata": {
    "collapsed": false
   },
   "outputs": [
    {
     "data": {
      "text/html": [
       "<div>\n",
       "<table border=\"1\" class=\"dataframe\">\n",
       "  <thead>\n",
       "    <tr style=\"text-align: right;\">\n",
       "      <th></th>\n",
       "      <th>keycol</th>\n",
       "      <th>delay</th>\n",
       "      <th>Taxi_Rides</th>\n",
       "      <th>station</th>\n",
       "      <th>hour</th>\n",
       "    </tr>\n",
       "  </thead>\n",
       "  <tbody>\n",
       "    <tr>\n",
       "      <th>1</th>\n",
       "      <td>1_1_7</td>\n",
       "      <td>1</td>\n",
       "      <td>22.0</td>\n",
       "      <td>1</td>\n",
       "      <td>7</td>\n",
       "    </tr>\n",
       "    <tr>\n",
       "      <th>2</th>\n",
       "      <td>10_1_7</td>\n",
       "      <td>1</td>\n",
       "      <td>1.0</td>\n",
       "      <td>10</td>\n",
       "      <td>7</td>\n",
       "    </tr>\n",
       "    <tr>\n",
       "      <th>4</th>\n",
       "      <td>103_1_7</td>\n",
       "      <td>1</td>\n",
       "      <td>6.0</td>\n",
       "      <td>103</td>\n",
       "      <td>7</td>\n",
       "    </tr>\n",
       "    <tr>\n",
       "      <th>5</th>\n",
       "      <td>104_1_7</td>\n",
       "      <td>2</td>\n",
       "      <td>1.0</td>\n",
       "      <td>104</td>\n",
       "      <td>7</td>\n",
       "    </tr>\n",
       "    <tr>\n",
       "      <th>10</th>\n",
       "      <td>11_1_7</td>\n",
       "      <td>3</td>\n",
       "      <td>4.0</td>\n",
       "      <td>11</td>\n",
       "      <td>7</td>\n",
       "    </tr>\n",
       "  </tbody>\n",
       "</table>\n",
       "</div>"
      ],
      "text/plain": [
       "     keycol  delay  Taxi_Rides station  hour\n",
       "1     1_1_7      1        22.0       1     7\n",
       "2    10_1_7      1         1.0      10     7\n",
       "4   103_1_7      1         6.0     103     7\n",
       "5   104_1_7      2         1.0     104     7\n",
       "10   11_1_7      3         4.0      11     7"
      ]
     },
     "execution_count": 49,
     "metadata": {},
     "output_type": "execute_result"
    }
   ],
   "source": [
    "merged['station'] = merged['keycol'].apply(lambda x: x.split('_')[0])\n",
    "merged['hour'] = merged['keycol'].apply(lambda x: int(x.split('_')[2]))\n",
    "merged.head()"
   ]
  },
  {
   "cell_type": "code",
   "execution_count": 50,
   "metadata": {
    "collapsed": false
   },
   "outputs": [
    {
     "name": "stdout",
     "output_type": "stream",
     "text": [
      "number of delays: 6299\n",
      "number of good service (kind of): 6750\n"
     ]
    }
   ],
   "source": [
    "the_delays = merged[merged.delay>0]\n",
    "the_control = merged[merged.delay==0]\n",
    "print \"number of delays: \" + str(len(the_delays))\n",
    "print \"number of good service (kind of): \" + str(len(the_control))\n"
   ]
  },
  {
   "cell_type": "code",
   "execution_count": 51,
   "metadata": {
    "collapsed": false
   },
   "outputs": [
    {
     "name": "stdout",
     "output_type": "stream",
     "text": [
      "mean taxi rides on delays: 10.0527067789\n",
      "mean taxi rides on good services: 9.65925925926\n"
     ]
    }
   ],
   "source": [
    "print \"mean taxi rides on delays: \" + str(the_delays.Taxi_Rides.mean())\n",
    "print \"mean taxi rides on good services: \" + str(the_control.Taxi_Rides.mean())"
   ]
  },
  {
   "cell_type": "code",
   "execution_count": 52,
   "metadata": {
    "collapsed": false
   },
   "outputs": [
    {
     "name": "stdout",
     "output_type": "stream",
     "text": [
      "ttest_ind:            t = 1.66078  p = 0.096782\n"
     ]
    }
   ],
   "source": [
    "t, p = ttest_ind(the_delays.Taxi_Rides, the_control.Taxi_Rides, equal_var=False)\n",
    "print(\"ttest_ind:            t = %g  p = %g\" % (t, p))"
   ]
  },
  {
   "cell_type": "markdown",
   "metadata": {},
   "source": [
    "# by hour"
   ]
  },
  {
   "cell_type": "code",
   "execution_count": 145,
   "metadata": {
    "collapsed": false
   },
   "outputs": [],
   "source": [
    "by_hour = pd.DataFrame({'delay': the_delays.groupby('hour').mean()['Taxi_Rides'],\n",
    "                        'control': the_control.groupby('hour').mean()['Taxi_Rides']})"
   ]
  },
  {
   "cell_type": "code",
   "execution_count": 146,
   "metadata": {
    "collapsed": false
   },
   "outputs": [
    {
     "data": {
      "text/html": [
       "<div>\n",
       "<table border=\"1\" class=\"dataframe\">\n",
       "  <thead>\n",
       "    <tr style=\"text-align: right;\">\n",
       "      <th>hour</th>\n",
       "      <th>7</th>\n",
       "      <th>8</th>\n",
       "      <th>9</th>\n",
       "      <th>10</th>\n",
       "      <th>11</th>\n",
       "      <th>12</th>\n",
       "      <th>13</th>\n",
       "      <th>14</th>\n",
       "      <th>15</th>\n",
       "      <th>16</th>\n",
       "      <th>17</th>\n",
       "      <th>18</th>\n",
       "      <th>19</th>\n",
       "      <th>20</th>\n",
       "    </tr>\n",
       "  </thead>\n",
       "  <tbody>\n",
       "    <tr>\n",
       "      <th>control</th>\n",
       "      <td>7.056218</td>\n",
       "      <td>8.697974</td>\n",
       "      <td>7.909091</td>\n",
       "      <td>8.648472</td>\n",
       "      <td>10.063107</td>\n",
       "      <td>10.157773</td>\n",
       "      <td>10.612335</td>\n",
       "      <td>11.233918</td>\n",
       "      <td>9.301344</td>\n",
       "      <td>9.244860</td>\n",
       "      <td>9.924731</td>\n",
       "      <td>11.703364</td>\n",
       "      <td>10.731752</td>\n",
       "      <td>11.926829</td>\n",
       "    </tr>\n",
       "    <tr>\n",
       "      <th>delay</th>\n",
       "      <td>7.618799</td>\n",
       "      <td>9.091723</td>\n",
       "      <td>10.519149</td>\n",
       "      <td>9.061785</td>\n",
       "      <td>9.751678</td>\n",
       "      <td>9.565310</td>\n",
       "      <td>9.176334</td>\n",
       "      <td>9.034398</td>\n",
       "      <td>10.914835</td>\n",
       "      <td>9.732258</td>\n",
       "      <td>11.627907</td>\n",
       "      <td>10.897833</td>\n",
       "      <td>12.224359</td>\n",
       "      <td>10.736264</td>\n",
       "    </tr>\n",
       "  </tbody>\n",
       "</table>\n",
       "</div>"
      ],
      "text/plain": [
       "hour           7         8          9         10         11         12  \\\n",
       "control  7.056218  8.697974   7.909091  8.648472  10.063107  10.157773   \n",
       "delay    7.618799  9.091723  10.519149  9.061785   9.751678   9.565310   \n",
       "\n",
       "hour            13         14         15        16         17         18  \\\n",
       "control  10.612335  11.233918   9.301344  9.244860   9.924731  11.703364   \n",
       "delay     9.176334   9.034398  10.914835  9.732258  11.627907  10.897833   \n",
       "\n",
       "hour            19         20  \n",
       "control  10.731752  11.926829  \n",
       "delay    12.224359  10.736264  "
      ]
     },
     "execution_count": 146,
     "metadata": {},
     "output_type": "execute_result"
    }
   ],
   "source": [
    "by_hour.T"
   ]
  },
  {
   "cell_type": "code",
   "execution_count": 147,
   "metadata": {
    "collapsed": false
   },
   "outputs": [],
   "source": [
    "# let's test the p-value by hour\n",
    "ks_p_values = []\n",
    "ttest_p_values = []\n",
    "for i in range(7,21):\n",
    "    delay_per_hour = the_delays[the_delays.hour == i]['Taxi_Rides']\n",
    "    control_per_hour = the_control[the_control.hour == i]['Taxi_Rides']\n",
    "    t, pt = ttest_ind(control_per_hour,delay_per_hour, equal_var=False)\n",
    "    k,pk = ks_2samp(control_per_hour, delay_per_hour)\n",
    "    ks_p_values.append(pk)\n",
    "    ttest_p_values.append(pt)"
   ]
  },
  {
   "cell_type": "code",
   "execution_count": 149,
   "metadata": {
    "collapsed": false
   },
   "outputs": [
    {
     "data": {
      "text/html": [
       "<div>\n",
       "<table border=\"1\" class=\"dataframe\">\n",
       "  <thead>\n",
       "    <tr style=\"text-align: right;\">\n",
       "      <th></th>\n",
       "      <th>control</th>\n",
       "      <th>delay</th>\n",
       "      <th>ks p-values</th>\n",
       "      <th>t-test p-values</th>\n",
       "      <th>significant</th>\n",
       "    </tr>\n",
       "    <tr>\n",
       "      <th>hour</th>\n",
       "      <th></th>\n",
       "      <th></th>\n",
       "      <th></th>\n",
       "      <th></th>\n",
       "      <th></th>\n",
       "    </tr>\n",
       "  </thead>\n",
       "  <tbody>\n",
       "    <tr>\n",
       "      <th>7</th>\n",
       "      <td>7.056218</td>\n",
       "      <td>7.618799</td>\n",
       "      <td>0.999255</td>\n",
       "      <td>0.433841</td>\n",
       "      <td>0</td>\n",
       "    </tr>\n",
       "    <tr>\n",
       "      <th>8</th>\n",
       "      <td>8.697974</td>\n",
       "      <td>9.091723</td>\n",
       "      <td>0.880697</td>\n",
       "      <td>0.641205</td>\n",
       "      <td>0</td>\n",
       "    </tr>\n",
       "    <tr>\n",
       "      <th>9</th>\n",
       "      <td>7.909091</td>\n",
       "      <td>10.519149</td>\n",
       "      <td>0.154038</td>\n",
       "      <td>0.001714</td>\n",
       "      <td>1</td>\n",
       "    </tr>\n",
       "    <tr>\n",
       "      <th>10</th>\n",
       "      <td>8.648472</td>\n",
       "      <td>9.061785</td>\n",
       "      <td>0.525112</td>\n",
       "      <td>0.581653</td>\n",
       "      <td>0</td>\n",
       "    </tr>\n",
       "    <tr>\n",
       "      <th>11</th>\n",
       "      <td>10.063107</td>\n",
       "      <td>9.751678</td>\n",
       "      <td>0.619448</td>\n",
       "      <td>0.713688</td>\n",
       "      <td>0</td>\n",
       "    </tr>\n",
       "    <tr>\n",
       "      <th>12</th>\n",
       "      <td>10.157773</td>\n",
       "      <td>9.565310</td>\n",
       "      <td>0.002091</td>\n",
       "      <td>0.478589</td>\n",
       "      <td>0</td>\n",
       "    </tr>\n",
       "    <tr>\n",
       "      <th>13</th>\n",
       "      <td>10.612335</td>\n",
       "      <td>9.176334</td>\n",
       "      <td>0.006699</td>\n",
       "      <td>0.069734</td>\n",
       "      <td>0</td>\n",
       "    </tr>\n",
       "    <tr>\n",
       "      <th>14</th>\n",
       "      <td>11.233918</td>\n",
       "      <td>9.034398</td>\n",
       "      <td>0.002704</td>\n",
       "      <td>0.011743</td>\n",
       "      <td>1</td>\n",
       "    </tr>\n",
       "    <tr>\n",
       "      <th>15</th>\n",
       "      <td>9.301344</td>\n",
       "      <td>10.914835</td>\n",
       "      <td>0.277608</td>\n",
       "      <td>0.104414</td>\n",
       "      <td>0</td>\n",
       "    </tr>\n",
       "    <tr>\n",
       "      <th>16</th>\n",
       "      <td>9.244860</td>\n",
       "      <td>9.732258</td>\n",
       "      <td>0.040612</td>\n",
       "      <td>0.609798</td>\n",
       "      <td>0</td>\n",
       "    </tr>\n",
       "    <tr>\n",
       "      <th>17</th>\n",
       "      <td>9.924731</td>\n",
       "      <td>11.627907</td>\n",
       "      <td>0.304532</td>\n",
       "      <td>0.109092</td>\n",
       "      <td>0</td>\n",
       "    </tr>\n",
       "    <tr>\n",
       "      <th>18</th>\n",
       "      <td>11.703364</td>\n",
       "      <td>10.897833</td>\n",
       "      <td>0.068275</td>\n",
       "      <td>0.454257</td>\n",
       "      <td>0</td>\n",
       "    </tr>\n",
       "    <tr>\n",
       "      <th>19</th>\n",
       "      <td>10.731752</td>\n",
       "      <td>12.224359</td>\n",
       "      <td>0.864655</td>\n",
       "      <td>0.143330</td>\n",
       "      <td>0</td>\n",
       "    </tr>\n",
       "    <tr>\n",
       "      <th>20</th>\n",
       "      <td>11.926829</td>\n",
       "      <td>10.736264</td>\n",
       "      <td>0.072061</td>\n",
       "      <td>0.596834</td>\n",
       "      <td>0</td>\n",
       "    </tr>\n",
       "  </tbody>\n",
       "</table>\n",
       "</div>"
      ],
      "text/plain": [
       "        control      delay  ks p-values  t-test p-values  significant\n",
       "hour                                                                 \n",
       "7      7.056218   7.618799     0.999255         0.433841            0\n",
       "8      8.697974   9.091723     0.880697         0.641205            0\n",
       "9      7.909091  10.519149     0.154038         0.001714            1\n",
       "10     8.648472   9.061785     0.525112         0.581653            0\n",
       "11    10.063107   9.751678     0.619448         0.713688            0\n",
       "12    10.157773   9.565310     0.002091         0.478589            0\n",
       "13    10.612335   9.176334     0.006699         0.069734            0\n",
       "14    11.233918   9.034398     0.002704         0.011743            1\n",
       "15     9.301344  10.914835     0.277608         0.104414            0\n",
       "16     9.244860   9.732258     0.040612         0.609798            0\n",
       "17     9.924731  11.627907     0.304532         0.109092            0\n",
       "18    11.703364  10.897833     0.068275         0.454257            0\n",
       "19    10.731752  12.224359     0.864655         0.143330            0\n",
       "20    11.926829  10.736264     0.072061         0.596834            0"
      ]
     },
     "execution_count": 149,
     "metadata": {},
     "output_type": "execute_result"
    }
   ],
   "source": [
    "by_hour['ks p-values'] = ks_p_values\n",
    "by_hour['t-test p-values'] = ttest_p_values\n",
    "by_hour['significant'] = by_hour['t-test p-values'].apply(lambda x: 1 if x<0.05 else 0)\n",
    "by_hour"
   ]
  },
  {
   "cell_type": "code",
   "execution_count": 163,
   "metadata": {
    "collapsed": false
   },
   "outputs": [
    {
     "data": {
      "text/plain": [
       "<matplotlib.text.Text at 0x2259fe80>"
      ]
     },
     "execution_count": 163,
     "metadata": {},
     "output_type": "execute_result"
    },
    {
     "data": {
      "image/png": "[encoded data removed]",
      "text/plain": [
       "<matplotlib.figure.Figure at 0x222e20f0>"
      ]
     },
     "metadata": {},
     "output_type": "display_data"
    }
   ],
   "source": [
    "fig = plt.figure(figsize=(8,8))\n",
    "ax = fig.add_subplot(211)\n",
    "plt.xticks(by_hour.index)\n",
    "ax.scatter(by_hour[by_hour.significant==1].index,\n",
    "           by_hour[by_hour.significant==1].delay,\n",
    "          c=\"black\",s=100, zorder=10, label='significant')\n",
    "by_hour.control.plot(ax=ax, label=\"Good Service\", c='gray', linewidth=2)\n",
    "by_hour.delay.plot(ax=ax, label=\"Delay\", c='IndianRed', linewidth=4)\n",
    "ax.set_ylabel(\"Taxi Pickups\")\n",
    "ax.set_xlabel(\"\")\n",
    "plt.legend(loc='lower right')\n",
    "ax.grid(color='#dddddd')\n",
    "ax.set_title(\"Number of Taxi Pickups Within 100 Feet From Stations\", fontweight='bold', fontsize=16)\n",
    "\n",
    "# ax = fig.add_subplot(212)\n",
    "# ax.set_xticks(by_hour.index)\n",
    "# by_hour.p_values.plot(ax=ax, c='gray', linewidth=2)\n",
    "# ax.set_title(\"p-values\",fontweight=\"bold\")\n",
    "# ax.grid(color='#dddddd')\n",
    "\n"
   ]
  },
  {
   "cell_type": "markdown",
   "metadata": {},
   "source": [
    "# by station"
   ]
  },
  {
   "cell_type": "code",
   "execution_count": 181,
   "metadata": {
    "collapsed": true
   },
   "outputs": [],
   "source": [
    "by_station = pd.DataFrame({'delay': the_delays.groupby('station').mean()['Taxi_Rides'],\n",
    "                        'control': the_control.groupby('station').mean()['Taxi_Rides']})\n",
    "by_station.dropna(inplace=True)"
   ]
  },
  {
   "cell_type": "code",
   "execution_count": 182,
   "metadata": {
    "collapsed": false
   },
   "outputs": [],
   "source": [
    "# let's test the p-value by station\n",
    "ks_p_values = []\n",
    "ttest_p_values = []\n",
    "for i in by_station.index:\n",
    "    delay_per_station = the_delays[the_delays.station == i]['Taxi_Rides']\n",
    "    control_per_station = the_control[the_control.station == i]['Taxi_Rides']\n",
    "    t, pt = ttest_ind(control_per_station,delay_per_station, equal_var=False)\n",
    "    k,pk = ks_2samp(control_per_station, delay_per_station)\n",
    "    ks_p_values.append(pk)\n",
    "    ttest_p_values.append(pt)"
   ]
  },
  {
   "cell_type": "code",
   "execution_count": 183,
   "metadata": {
    "collapsed": false
   },
   "outputs": [
    {
     "data": {
      "text/html": [
       "<div>\n",
       "<table border=\"1\" class=\"dataframe\">\n",
       "  <thead>\n",
       "    <tr style=\"text-align: right;\">\n",
       "      <th></th>\n",
       "      <th>control</th>\n",
       "      <th>delay</th>\n",
       "      <th>ks p-values</th>\n",
       "      <th>t-test p-values</th>\n",
       "      <th>significant</th>\n",
       "    </tr>\n",
       "  </thead>\n",
       "  <tbody>\n",
       "    <tr>\n",
       "      <th>1</th>\n",
       "      <td>28.000000</td>\n",
       "      <td>26.229268</td>\n",
       "      <td>0.089602</td>\n",
       "      <td>0.085356</td>\n",
       "      <td>0</td>\n",
       "    </tr>\n",
       "    <tr>\n",
       "      <th>10</th>\n",
       "      <td>1.203704</td>\n",
       "      <td>1.500000</td>\n",
       "      <td>0.059648</td>\n",
       "      <td>0.008174</td>\n",
       "      <td>1</td>\n",
       "    </tr>\n",
       "    <tr>\n",
       "      <th>101</th>\n",
       "      <td>1.507463</td>\n",
       "      <td>1.891304</td>\n",
       "      <td>0.043858</td>\n",
       "      <td>0.038720</td>\n",
       "      <td>1</td>\n",
       "    </tr>\n",
       "    <tr>\n",
       "      <th>103</th>\n",
       "      <td>4.906433</td>\n",
       "      <td>5.137441</td>\n",
       "      <td>0.855797</td>\n",
       "      <td>0.475192</td>\n",
       "      <td>0</td>\n",
       "    </tr>\n",
       "    <tr>\n",
       "      <th>104</th>\n",
       "      <td>1.000000</td>\n",
       "      <td>1.000000</td>\n",
       "      <td>1.000000</td>\n",
       "      <td>NaN</td>\n",
       "      <td>0</td>\n",
       "    </tr>\n",
       "  </tbody>\n",
       "</table>\n",
       "</div>"
      ],
      "text/plain": [
       "       control      delay  ks p-values  t-test p-values  significant\n",
       "1    28.000000  26.229268     0.089602         0.085356            0\n",
       "10    1.203704   1.500000     0.059648         0.008174            1\n",
       "101   1.507463   1.891304     0.043858         0.038720            1\n",
       "103   4.906433   5.137441     0.855797         0.475192            0\n",
       "104   1.000000   1.000000     1.000000              NaN            0"
      ]
     },
     "execution_count": 183,
     "metadata": {},
     "output_type": "execute_result"
    }
   ],
   "source": [
    "by_station['ks p-values'] = ks_p_values\n",
    "by_station['t-test p-values'] = ttest_p_values\n",
    "by_station['significant'] = by_station['t-test p-values'].apply(lambda x: 1 if x<0.05 else 0)\n",
    "by_station.head()"
   ]
  },
  {
   "cell_type": "code",
   "execution_count": 198,
   "metadata": {
    "collapsed": false
   },
   "outputs": [
    {
     "data": {
      "text/plain": [
       "<matplotlib.text.Text at 0x20185470>"
      ]
     },
     "execution_count": 198,
     "metadata": {},
     "output_type": "execute_result"
    },
    {
     "data": {
      "image/png": "[encoded data removed]",
      "text/plain": [
       "<matplotlib.figure.Figure at 0x1fd84780>"
      ]
     },
     "metadata": {},
     "output_type": "display_data"
    }
   ],
   "source": [
    "fig = plt.figure(figsize=(12,8))\n",
    "ax = fig.add_subplot(211)\n",
    "plt.xticks(by_station.index)\n",
    "ax.scatter(by_station[by_station.significant==1].index,\n",
    "           by_station[by_station.significant==1].delay,\n",
    "          c=\"black\",s=4, zorder=20, label='significant')\n",
    "by_station.control.plot(ax=ax, label=\"Good Service\", c='gray', linewidth=1)\n",
    "by_station.delay.plot(ax=ax, label=\"Delay\", c='IndianRed', linewidth=1)\n",
    "ax.set_ylabel(\"Taxi Pickups\")\n",
    "ax.set_xlabel(\"stations\")\n",
    "ax.set_ylim([0,60])\n",
    "plt.legend(loc='upper right')\n",
    "ax.grid(color='#dddddd')\n",
    "ax.set_title(\"Number of Taxi Pickups Within 100 Feet From Stations\", fontweight='bold', fontsize=16)\n",
    "\n",
    "# ax = fig.add_subplot(212)\n",
    "# ax.set_xticks(by_hour.index)\n",
    "# by_hour.p_values.plot(ax=ax, c='gray', linewidth=2)\n",
    "# ax.set_title(\"p-values\",fontweight=\"bold\")\n",
    "# ax.grid(color='#dddddd')\n",
    "\n"
   ]
  },
  {
   "cell_type": "code",
   "execution_count": 221,
   "metadata": {
    "collapsed": false
   },
   "outputs": [
    {
     "data": {
      "text/html": [
       "<div>\n",
       "<table border=\"1\" class=\"dataframe\">\n",
       "  <thead>\n",
       "    <tr style=\"text-align: right;\">\n",
       "      <th></th>\n",
       "      <th>objectid</th>\n",
       "      <th>control</th>\n",
       "      <th>delay</th>\n",
       "      <th>ks p-values</th>\n",
       "      <th>t-test p-values</th>\n",
       "      <th>significant</th>\n",
       "    </tr>\n",
       "  </thead>\n",
       "  <tbody>\n",
       "    <tr>\n",
       "      <th>0</th>\n",
       "      <td>10</td>\n",
       "      <td>1.203704</td>\n",
       "      <td>1.500000</td>\n",
       "      <td>0.059648</td>\n",
       "      <td>0.008174</td>\n",
       "      <td>1</td>\n",
       "    </tr>\n",
       "    <tr>\n",
       "      <th>1</th>\n",
       "      <td>101</td>\n",
       "      <td>1.507463</td>\n",
       "      <td>1.891304</td>\n",
       "      <td>0.043858</td>\n",
       "      <td>0.038720</td>\n",
       "      <td>1</td>\n",
       "    </tr>\n",
       "    <tr>\n",
       "      <th>2</th>\n",
       "      <td>115</td>\n",
       "      <td>1.320755</td>\n",
       "      <td>1.676471</td>\n",
       "      <td>0.046277</td>\n",
       "      <td>0.001361</td>\n",
       "      <td>1</td>\n",
       "    </tr>\n",
       "    <tr>\n",
       "      <th>3</th>\n",
       "      <td>116</td>\n",
       "      <td>3.155689</td>\n",
       "      <td>4.078652</td>\n",
       "      <td>0.056562</td>\n",
       "      <td>0.003428</td>\n",
       "      <td>1</td>\n",
       "    </tr>\n",
       "    <tr>\n",
       "      <th>4</th>\n",
       "      <td>119</td>\n",
       "      <td>1.030303</td>\n",
       "      <td>1.255814</td>\n",
       "      <td>0.544968</td>\n",
       "      <td>0.019678</td>\n",
       "      <td>1</td>\n",
       "    </tr>\n",
       "    <tr>\n",
       "      <th>5</th>\n",
       "      <td>120</td>\n",
       "      <td>1.735294</td>\n",
       "      <td>2.269663</td>\n",
       "      <td>0.249709</td>\n",
       "      <td>0.007448</td>\n",
       "      <td>1</td>\n",
       "    </tr>\n",
       "    <tr>\n",
       "      <th>6</th>\n",
       "      <td>138</td>\n",
       "      <td>1.000000</td>\n",
       "      <td>1.151515</td>\n",
       "      <td>0.999998</td>\n",
       "      <td>0.006563</td>\n",
       "      <td>1</td>\n",
       "    </tr>\n",
       "    <tr>\n",
       "      <th>7</th>\n",
       "      <td>230</td>\n",
       "      <td>1.694444</td>\n",
       "      <td>1.304348</td>\n",
       "      <td>0.788295</td>\n",
       "      <td>0.022454</td>\n",
       "      <td>1</td>\n",
       "    </tr>\n",
       "    <tr>\n",
       "      <th>8</th>\n",
       "      <td>4</td>\n",
       "      <td>1.561644</td>\n",
       "      <td>1.854430</td>\n",
       "      <td>0.534267</td>\n",
       "      <td>0.034381</td>\n",
       "      <td>1</td>\n",
       "    </tr>\n",
       "    <tr>\n",
       "      <th>9</th>\n",
       "      <td>410</td>\n",
       "      <td>15.833333</td>\n",
       "      <td>17.494297</td>\n",
       "      <td>0.113617</td>\n",
       "      <td>0.022829</td>\n",
       "      <td>1</td>\n",
       "    </tr>\n",
       "    <tr>\n",
       "      <th>10</th>\n",
       "      <td>415</td>\n",
       "      <td>11.939297</td>\n",
       "      <td>13.839623</td>\n",
       "      <td>0.003303</td>\n",
       "      <td>0.009011</td>\n",
       "      <td>1</td>\n",
       "    </tr>\n",
       "    <tr>\n",
       "      <th>11</th>\n",
       "      <td>416</td>\n",
       "      <td>5.476341</td>\n",
       "      <td>6.615385</td>\n",
       "      <td>0.095791</td>\n",
       "      <td>0.009922</td>\n",
       "      <td>1</td>\n",
       "    </tr>\n",
       "  </tbody>\n",
       "</table>\n",
       "</div>"
      ],
      "text/plain": [
       "    objectid    control      delay  ks p-values  t-test p-values  significant\n",
       "0         10   1.203704   1.500000     0.059648         0.008174            1\n",
       "1        101   1.507463   1.891304     0.043858         0.038720            1\n",
       "2        115   1.320755   1.676471     0.046277         0.001361            1\n",
       "3        116   3.155689   4.078652     0.056562         0.003428            1\n",
       "4        119   1.030303   1.255814     0.544968         0.019678            1\n",
       "5        120   1.735294   2.269663     0.249709         0.007448            1\n",
       "6        138   1.000000   1.151515     0.999998         0.006563            1\n",
       "7        230   1.694444   1.304348     0.788295         0.022454            1\n",
       "8          4   1.561644   1.854430     0.534267         0.034381            1\n",
       "9        410  15.833333  17.494297     0.113617         0.022829            1\n",
       "10       415  11.939297  13.839623     0.003303         0.009011            1\n",
       "11       416   5.476341   6.615385     0.095791         0.009922            1"
      ]
     },
     "execution_count": 221,
     "metadata": {},
     "output_type": "execute_result"
    }
   ],
   "source": [
    "significant_stations = by_station[by_station.significant==1].copy().reset_index()\n",
    "significant_stations.rename(columns={'index':'objectid'}, inplace=True)\n",
    "significant_stations['objectid'] = significant_stations['objectid'].apply(int)\n",
    "significant_stations"
   ]
  },
  {
   "cell_type": "code",
   "execution_count": 199,
   "metadata": {
    "collapsed": true
   },
   "outputs": [],
   "source": [
    "subwayst = gpd.GeoDataFrame.from_file('subway routes/subwaystations.shp')"
   ]
  },
  {
   "cell_type": "code",
   "execution_count": 202,
   "metadata": {
    "collapsed": false
   },
   "outputs": [],
   "source": [
    "subway = subwayst[['name','objectid']]\n",
    "subway.index = subway.objectid.apply(int)"
   ]
  },
  {
   "cell_type": "code",
   "execution_count": 222,
   "metadata": {
    "collapsed": false
   },
   "outputs": [
    {
     "data": {
      "text/html": [
       "<div>\n",
       "<table border=\"1\" class=\"dataframe\">\n",
       "  <thead>\n",
       "    <tr style=\"text-align: right;\">\n",
       "      <th></th>\n",
       "      <th>objectid</th>\n",
       "      <th>control</th>\n",
       "      <th>delay</th>\n",
       "      <th>ks p-values</th>\n",
       "      <th>t-test p-values</th>\n",
       "      <th>significant</th>\n",
       "      <th>name</th>\n",
       "    </tr>\n",
       "  </thead>\n",
       "  <tbody>\n",
       "    <tr>\n",
       "      <th>0</th>\n",
       "      <td>10</td>\n",
       "      <td>1.203704</td>\n",
       "      <td>1.500000</td>\n",
       "      <td>0.059648</td>\n",
       "      <td>0.008174</td>\n",
       "      <td>1</td>\n",
       "      <td>36th St</td>\n",
       "    </tr>\n",
       "    <tr>\n",
       "      <th>1</th>\n",
       "      <td>101</td>\n",
       "      <td>1.507463</td>\n",
       "      <td>1.891304</td>\n",
       "      <td>0.043858</td>\n",
       "      <td>0.038720</td>\n",
       "      <td>1</td>\n",
       "      <td>Vernon Blvd - Jackson Ave</td>\n",
       "    </tr>\n",
       "    <tr>\n",
       "      <th>2</th>\n",
       "      <td>115</td>\n",
       "      <td>1.320755</td>\n",
       "      <td>1.676471</td>\n",
       "      <td>0.046277</td>\n",
       "      <td>0.001361</td>\n",
       "      <td>1</td>\n",
       "      <td>Grand Army Plaza</td>\n",
       "    </tr>\n",
       "    <tr>\n",
       "      <th>3</th>\n",
       "      <td>116</td>\n",
       "      <td>3.155689</td>\n",
       "      <td>4.078652</td>\n",
       "      <td>0.056562</td>\n",
       "      <td>0.003428</td>\n",
       "      <td>1</td>\n",
       "      <td>Atlantic Av - Barclay's Center</td>\n",
       "    </tr>\n",
       "    <tr>\n",
       "      <th>4</th>\n",
       "      <td>119</td>\n",
       "      <td>1.030303</td>\n",
       "      <td>1.255814</td>\n",
       "      <td>0.544968</td>\n",
       "      <td>0.019678</td>\n",
       "      <td>1</td>\n",
       "      <td>Clinton - Washington Aves</td>\n",
       "    </tr>\n",
       "    <tr>\n",
       "      <th>5</th>\n",
       "      <td>120</td>\n",
       "      <td>1.735294</td>\n",
       "      <td>2.269663</td>\n",
       "      <td>0.249709</td>\n",
       "      <td>0.007448</td>\n",
       "      <td>1</td>\n",
       "      <td>7th Ave</td>\n",
       "    </tr>\n",
       "    <tr>\n",
       "      <th>6</th>\n",
       "      <td>138</td>\n",
       "      <td>1.000000</td>\n",
       "      <td>1.151515</td>\n",
       "      <td>0.999998</td>\n",
       "      <td>0.006563</td>\n",
       "      <td>1</td>\n",
       "      <td>Greenpoint Ave</td>\n",
       "    </tr>\n",
       "    <tr>\n",
       "      <th>7</th>\n",
       "      <td>230</td>\n",
       "      <td>1.694444</td>\n",
       "      <td>1.304348</td>\n",
       "      <td>0.788295</td>\n",
       "      <td>0.022454</td>\n",
       "      <td>1</td>\n",
       "      <td>69th St</td>\n",
       "    </tr>\n",
       "    <tr>\n",
       "      <th>8</th>\n",
       "      <td>4</td>\n",
       "      <td>1.561644</td>\n",
       "      <td>1.854430</td>\n",
       "      <td>0.534267</td>\n",
       "      <td>0.034381</td>\n",
       "      <td>1</td>\n",
       "      <td>Bergen St</td>\n",
       "    </tr>\n",
       "    <tr>\n",
       "      <th>9</th>\n",
       "      <td>410</td>\n",
       "      <td>15.833333</td>\n",
       "      <td>17.494297</td>\n",
       "      <td>0.113617</td>\n",
       "      <td>0.022829</td>\n",
       "      <td>1</td>\n",
       "      <td>Canal St - Holland Tunnel</td>\n",
       "    </tr>\n",
       "    <tr>\n",
       "      <th>10</th>\n",
       "      <td>415</td>\n",
       "      <td>11.939297</td>\n",
       "      <td>13.839623</td>\n",
       "      <td>0.003303</td>\n",
       "      <td>0.009011</td>\n",
       "      <td>1</td>\n",
       "      <td>Canal St</td>\n",
       "    </tr>\n",
       "    <tr>\n",
       "      <th>11</th>\n",
       "      <td>416</td>\n",
       "      <td>5.476341</td>\n",
       "      <td>6.615385</td>\n",
       "      <td>0.095791</td>\n",
       "      <td>0.009922</td>\n",
       "      <td>1</td>\n",
       "      <td>City Hall</td>\n",
       "    </tr>\n",
       "  </tbody>\n",
       "</table>\n",
       "</div>"
      ],
      "text/plain": [
       "    objectid    control      delay  ks p-values  t-test p-values  significant  \\\n",
       "0         10   1.203704   1.500000     0.059648         0.008174            1   \n",
       "1        101   1.507463   1.891304     0.043858         0.038720            1   \n",
       "2        115   1.320755   1.676471     0.046277         0.001361            1   \n",
       "3        116   3.155689   4.078652     0.056562         0.003428            1   \n",
       "4        119   1.030303   1.255814     0.544968         0.019678            1   \n",
       "5        120   1.735294   2.269663     0.249709         0.007448            1   \n",
       "6        138   1.000000   1.151515     0.999998         0.006563            1   \n",
       "7        230   1.694444   1.304348     0.788295         0.022454            1   \n",
       "8          4   1.561644   1.854430     0.534267         0.034381            1   \n",
       "9        410  15.833333  17.494297     0.113617         0.022829            1   \n",
       "10       415  11.939297  13.839623     0.003303         0.009011            1   \n",
       "11       416   5.476341   6.615385     0.095791         0.009922            1   \n",
       "\n",
       "                              name  \n",
       "0                          36th St  \n",
       "1        Vernon Blvd - Jackson Ave  \n",
       "2                 Grand Army Plaza  \n",
       "3   Atlantic Av - Barclay's Center  \n",
       "4        Clinton - Washington Aves  \n",
       "5                          7th Ave  \n",
       "6                   Greenpoint Ave  \n",
       "7                          69th St  \n",
       "8                        Bergen St  \n",
       "9        Canal St - Holland Tunnel  \n",
       "10                        Canal St  \n",
       "11                       City Hall  "
      ]
     },
     "execution_count": 222,
     "metadata": {},
     "output_type": "execute_result"
    }
   ],
   "source": [
    "pd.merge(significant_stations, subway, how='left', on='objectid')"
   ]
  },
  {
   "cell_type": "code",
   "execution_count": 225,
   "metadata": {
    "collapsed": false
   },
   "outputs": [
    {
     "data": {
      "text/html": [
       "<div>\n",
       "<table border=\"1\" class=\"dataframe\">\n",
       "  <thead>\n",
       "    <tr style=\"text-align: right;\">\n",
       "      <th></th>\n",
       "      <th>geometry</th>\n",
       "      <th>line</th>\n",
       "      <th>name</th>\n",
       "      <th>notes</th>\n",
       "      <th>objectid</th>\n",
       "      <th>url</th>\n",
       "    </tr>\n",
       "  </thead>\n",
       "  <tbody>\n",
       "    <tr>\n",
       "      <th>415</th>\n",
       "      <td>POINT (-74.00698581780337 40.71327233111697)</td>\n",
       "      <td>R-W</td>\n",
       "      <td>City Hall</td>\n",
       "      <td>N-nights, R-all other times</td>\n",
       "      <td>416.0</td>\n",
       "      <td>http://web.mta.info/nyct/service/</td>\n",
       "    </tr>\n",
       "  </tbody>\n",
       "</table>\n",
       "</div>"
      ],
      "text/plain": [
       "                                         geometry line       name  \\\n",
       "415  POINT (-74.00698581780337 40.71327233111697)  R-W  City Hall   \n",
       "\n",
       "                           notes  objectid                                url  \n",
       "415  N-nights, R-all other times     416.0  http://web.mta.info/nyct/service/  "
      ]
     },
     "execution_count": 225,
     "metadata": {},
     "output_type": "execute_result"
    }
   ],
   "source": [
    "subwayst[subwayst.objectid==416]"
   ]
  },
  {
   "cell_type": "code",
   "execution_count": null,
   "metadata": {
    "collapsed": true
   },
   "outputs": [],
   "source": []
  }
 ],
 "metadata": {
  "kernelspec": {
   "display_name": "Python [conda root]",
   "language": "python",
   "name": "conda-root-py"
  },
  "language_info": {
   "codemirror_mode": {
    "name": "ipython",
    "version": 2
   },
   "file_extension": ".py",
   "mimetype": "text/x-python",
   "name": "python",
   "nbconvert_exporter": "python",
   "pygments_lexer": "ipython2",
   "version": "2.7.12"
  }
 },
 "nbformat": 4,
 "nbformat_minor": 1
}
